{
 "cells": [
  {
   "cell_type": "code",
   "execution_count": null,
   "id": "9d0d0cf9-1610-4b3c-85ef-ad6f6e7c82a6",
   "metadata": {},
   "outputs": [],
   "source": [
    "# sentiment_analysis.ipynb\n",
    "\n",
    "# Import necessary libraries\n",
    "from transformers import pipeline\n",
    "import json\n",
    "\n",
    "# Load the sentiment analysis pipeline\n",
    "sentiment_analysis = pipeline(\"sentiment-analysis\")\n",
    "\n",
    "# Define a function for sentiment analysis\n",
    "def perform_sentiment_analysis(comment):\n",
    "    # Perform sentiment analysis\n",
    "    result = sentiment_analysis(comment)\n",
    "\n",
    "    # Extract sentiment scores\n",
    "    positive_score = result[0]['score']\n",
    "    negative_score = 1 - positive_score\n",
    "\n",
    "    # Convert scores to percentages\n",
    "    positive_percent = positive_score * 100\n",
    "    negative_percent = negative_score * 100\n",
    "\n",
    "    # Output the results as JSON\n",
    "    output = {\n",
    "        \"positive_percent\": positive_percent,\n",
    "        \"negative_percent\": negative_percent\n",
    "    }\n",
    "\n",
    "    return output\n",
    "\n",
    "# Example usage:\n",
    "comment = \"This is a sample comment.\"\n",
    "output = perform_sentiment_analysis(comment)\n",
    "print(output)"
   ]
  }
 ],
 "metadata": {
  "kernelspec": {
   "display_name": "Python 3 (ipykernel)",
   "language": "python",
   "name": "python3"
  },
  "language_info": {
   "codemirror_mode": {
    "name": "ipython",
    "version": 3
   },
   "file_extension": ".py",
   "mimetype": "text/x-python",
   "name": "python",
   "nbconvert_exporter": "python",
   "pygments_lexer": "ipython3",
   "version": "3.9.6"
  }
 },
 "nbformat": 4,
 "nbformat_minor": 5
}
